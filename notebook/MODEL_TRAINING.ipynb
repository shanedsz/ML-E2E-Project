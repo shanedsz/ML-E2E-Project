{
 "cells": [
  {
   "cell_type": "markdown",
   "metadata": {},
   "source": [
    "# Model Training\n",
    "\n",
    "### 1) Import packages and data"
   ]
  },
  {
   "cell_type": "code",
   "execution_count": 1,
   "metadata": {},
   "outputs": [],
   "source": [
    "\n",
    "import numpy as np\n",
    "import pandas as pd\n",
    "import matplotlib.pyplot as plt \n",
    "import seaborn as sns\n",
    "from sklearn.metrics import mean_squared_error, r2_score\n",
    "from sklearn.neighbors import KNeighborsRegressor\n",
    "from sklearn.tree import DecisionTreeRegressor\n",
    "from sklearn.ensemble import RandomForestRegressor,AdaBoostRegressor\n",
    "from sklearn.svm import SVR\n",
    "from sklearn.linear_model import LinearRegression, Ridge,Lasso\n",
    "from sklearn.metrics import r2_score, mean_absolute_error, mean_squared_error\n",
    "from sklearn.model_selection import RandomizedSearchCV\n",
    "from xgboost import XGBRegressor\n",
    "import warnings"
   ]
  },
  {
   "cell_type": "code",
   "execution_count": 2,
   "metadata": {},
   "outputs": [],
   "source": [
    "df = pd.read_csv('final_train.csv')"
   ]
  },
  {
   "cell_type": "code",
   "execution_count": 3,
   "metadata": {},
   "outputs": [
    {
     "data": {
      "text/html": [
       "<div>\n",
       "<style scoped>\n",
       "    .dataframe tbody tr th:only-of-type {\n",
       "        vertical-align: middle;\n",
       "    }\n",
       "\n",
       "    .dataframe tbody tr th {\n",
       "        vertical-align: top;\n",
       "    }\n",
       "\n",
       "    .dataframe thead th {\n",
       "        text-align: right;\n",
       "    }\n",
       "</style>\n",
       "<table border=\"1\" class=\"dataframe\">\n",
       "  <thead>\n",
       "    <tr style=\"text-align: right;\">\n",
       "      <th></th>\n",
       "      <th>Unnamed: 0</th>\n",
       "      <th>GameId</th>\n",
       "      <th>Team</th>\n",
       "      <th>X</th>\n",
       "      <th>Y</th>\n",
       "      <th>S</th>\n",
       "      <th>A</th>\n",
       "      <th>NflId</th>\n",
       "      <th>YardLine</th>\n",
       "      <th>Quarter</th>\n",
       "      <th>Down</th>\n",
       "      <th>Distance</th>\n",
       "      <th>FieldPosition</th>\n",
       "      <th>OffenseFormation</th>\n",
       "      <th>DefendersInTheBox</th>\n",
       "      <th>PlayDirection</th>\n",
       "      <th>Yards</th>\n",
       "    </tr>\n",
       "  </thead>\n",
       "  <tbody>\n",
       "    <tr>\n",
       "      <th>0</th>\n",
       "      <td>0</td>\n",
       "      <td>2017090700</td>\n",
       "      <td>away</td>\n",
       "      <td>73.91</td>\n",
       "      <td>34.84</td>\n",
       "      <td>1.69</td>\n",
       "      <td>1.13</td>\n",
       "      <td>496723</td>\n",
       "      <td>35</td>\n",
       "      <td>1</td>\n",
       "      <td>3</td>\n",
       "      <td>2</td>\n",
       "      <td>NE</td>\n",
       "      <td>SHOTGUN</td>\n",
       "      <td>6.0</td>\n",
       "      <td>left</td>\n",
       "      <td>8</td>\n",
       "    </tr>\n",
       "    <tr>\n",
       "      <th>1</th>\n",
       "      <td>1</td>\n",
       "      <td>2017090700</td>\n",
       "      <td>away</td>\n",
       "      <td>74.67</td>\n",
       "      <td>32.64</td>\n",
       "      <td>0.42</td>\n",
       "      <td>1.35</td>\n",
       "      <td>2495116</td>\n",
       "      <td>35</td>\n",
       "      <td>1</td>\n",
       "      <td>3</td>\n",
       "      <td>2</td>\n",
       "      <td>NE</td>\n",
       "      <td>SHOTGUN</td>\n",
       "      <td>6.0</td>\n",
       "      <td>left</td>\n",
       "      <td>8</td>\n",
       "    </tr>\n",
       "    <tr>\n",
       "      <th>2</th>\n",
       "      <td>2</td>\n",
       "      <td>2017090700</td>\n",
       "      <td>away</td>\n",
       "      <td>74.00</td>\n",
       "      <td>33.20</td>\n",
       "      <td>1.22</td>\n",
       "      <td>0.59</td>\n",
       "      <td>2495493</td>\n",
       "      <td>35</td>\n",
       "      <td>1</td>\n",
       "      <td>3</td>\n",
       "      <td>2</td>\n",
       "      <td>NE</td>\n",
       "      <td>SHOTGUN</td>\n",
       "      <td>6.0</td>\n",
       "      <td>left</td>\n",
       "      <td>8</td>\n",
       "    </tr>\n",
       "    <tr>\n",
       "      <th>3</th>\n",
       "      <td>3</td>\n",
       "      <td>2017090700</td>\n",
       "      <td>away</td>\n",
       "      <td>71.46</td>\n",
       "      <td>27.70</td>\n",
       "      <td>0.42</td>\n",
       "      <td>0.54</td>\n",
       "      <td>2506353</td>\n",
       "      <td>35</td>\n",
       "      <td>1</td>\n",
       "      <td>3</td>\n",
       "      <td>2</td>\n",
       "      <td>NE</td>\n",
       "      <td>SHOTGUN</td>\n",
       "      <td>6.0</td>\n",
       "      <td>left</td>\n",
       "      <td>8</td>\n",
       "    </tr>\n",
       "    <tr>\n",
       "      <th>4</th>\n",
       "      <td>4</td>\n",
       "      <td>2017090700</td>\n",
       "      <td>away</td>\n",
       "      <td>69.32</td>\n",
       "      <td>35.42</td>\n",
       "      <td>1.82</td>\n",
       "      <td>2.43</td>\n",
       "      <td>2530794</td>\n",
       "      <td>35</td>\n",
       "      <td>1</td>\n",
       "      <td>3</td>\n",
       "      <td>2</td>\n",
       "      <td>NE</td>\n",
       "      <td>SHOTGUN</td>\n",
       "      <td>6.0</td>\n",
       "      <td>left</td>\n",
       "      <td>8</td>\n",
       "    </tr>\n",
       "  </tbody>\n",
       "</table>\n",
       "</div>"
      ],
      "text/plain": [
       "   Unnamed: 0      GameId  Team      X      Y     S     A    NflId  YardLine  \\\n",
       "0           0  2017090700  away  73.91  34.84  1.69  1.13   496723        35   \n",
       "1           1  2017090700  away  74.67  32.64  0.42  1.35  2495116        35   \n",
       "2           2  2017090700  away  74.00  33.20  1.22  0.59  2495493        35   \n",
       "3           3  2017090700  away  71.46  27.70  0.42  0.54  2506353        35   \n",
       "4           4  2017090700  away  69.32  35.42  1.82  2.43  2530794        35   \n",
       "\n",
       "   Quarter  Down  Distance FieldPosition OffenseFormation  DefendersInTheBox  \\\n",
       "0        1     3         2            NE          SHOTGUN                6.0   \n",
       "1        1     3         2            NE          SHOTGUN                6.0   \n",
       "2        1     3         2            NE          SHOTGUN                6.0   \n",
       "3        1     3         2            NE          SHOTGUN                6.0   \n",
       "4        1     3         2            NE          SHOTGUN                6.0   \n",
       "\n",
       "  PlayDirection  Yards  \n",
       "0          left      8  \n",
       "1          left      8  \n",
       "2          left      8  \n",
       "3          left      8  \n",
       "4          left      8  "
      ]
     },
     "execution_count": 3,
     "metadata": {},
     "output_type": "execute_result"
    }
   ],
   "source": [
    "df.head()"
   ]
  },
  {
   "cell_type": "code",
   "execution_count": 4,
   "metadata": {},
   "outputs": [],
   "source": [
    "X = df.drop(columns=['Yards', 'Unnamed: 0'], axis = 1)"
   ]
  },
  {
   "cell_type": "code",
   "execution_count": 5,
   "metadata": {},
   "outputs": [
    {
     "data": {
      "text/plain": [
       "<bound method NDFrame.head of             GameId  Team      X      Y     S     A    NflId  YardLine  \\\n",
       "0       2017090700  away  73.91  34.84  1.69  1.13   496723        35   \n",
       "1       2017090700  away  74.67  32.64  0.42  1.35  2495116        35   \n",
       "2       2017090700  away  74.00  33.20  1.22  0.59  2495493        35   \n",
       "3       2017090700  away  71.46  27.70  0.42  0.54  2506353        35   \n",
       "4       2017090700  away  69.32  35.42  1.82  2.43  2530794        35   \n",
       "...            ...   ...    ...    ...   ...   ...      ...       ...   \n",
       "682149  2019112500  home  69.58  31.33  4.19  1.33  2556593        38   \n",
       "682150  2019112500  home  72.16  25.09  1.01  1.40  2558199        38   \n",
       "682151  2019112500  home  72.23  31.95  1.75  0.68  2558830        38   \n",
       "682152  2019112500  home  72.08  26.74  0.70  1.59  2562391        38   \n",
       "682153  2019112500  home  68.11  24.67  4.71  1.30  2562707        38   \n",
       "\n",
       "        Quarter  Down  Distance FieldPosition OffenseFormation  \\\n",
       "0             1     3         2            NE          SHOTGUN   \n",
       "1             1     3         2            NE          SHOTGUN   \n",
       "2             1     3         2            NE          SHOTGUN   \n",
       "3             1     3         2            NE          SHOTGUN   \n",
       "4             1     3         2            NE          SHOTGUN   \n",
       "...         ...   ...       ...           ...              ...   \n",
       "682149        4     2         9           BLT           PISTOL   \n",
       "682150        4     2         9           BLT           PISTOL   \n",
       "682151        4     2         9           BLT           PISTOL   \n",
       "682152        4     2         9           BLT           PISTOL   \n",
       "682153        4     2         9           BLT           PISTOL   \n",
       "\n",
       "        DefendersInTheBox PlayDirection  \n",
       "0                     6.0          left  \n",
       "1                     6.0          left  \n",
       "2                     6.0          left  \n",
       "3                     6.0          left  \n",
       "4                     6.0          left  \n",
       "...                   ...           ...  \n",
       "682149                6.0          left  \n",
       "682150                6.0          left  \n",
       "682151                6.0          left  \n",
       "682152                6.0          left  \n",
       "682153                6.0          left  \n",
       "\n",
       "[682154 rows x 15 columns]>"
      ]
     },
     "execution_count": 5,
     "metadata": {},
     "output_type": "execute_result"
    }
   ],
   "source": [
    "X.head"
   ]
  },
  {
   "cell_type": "code",
   "execution_count": 6,
   "metadata": {},
   "outputs": [
    {
     "data": {
      "text/plain": [
       "GameId                 int64\n",
       "Team                  object\n",
       "X                    float64\n",
       "Y                    float64\n",
       "S                    float64\n",
       "A                    float64\n",
       "NflId                  int64\n",
       "YardLine               int64\n",
       "Quarter                int64\n",
       "Down                   int64\n",
       "Distance               int64\n",
       "FieldPosition         object\n",
       "OffenseFormation      object\n",
       "DefendersInTheBox    float64\n",
       "PlayDirection         object\n",
       "dtype: object"
      ]
     },
     "execution_count": 6,
     "metadata": {},
     "output_type": "execute_result"
    }
   ],
   "source": [
    "X.dtypes"
   ]
  },
  {
   "cell_type": "code",
   "execution_count": 7,
   "metadata": {},
   "outputs": [
    {
     "name": "stdout",
     "output_type": "stream",
     "text": [
      "Categories in 'Team' variable:      ['away' 'home']\n",
      "Categories in 'FieldPosition' variable:   ['NE' 'KC' '0' 'BUF' 'NYJ' 'ATL' 'CHI' 'CIN' 'BLT' 'CLV' 'PIT' 'ARZ' 'DET'\n",
      " 'JAX' 'HST' 'TEN' 'OAK' 'WAS' 'PHI' 'LA' 'IND' 'GB' 'SEA' 'CAR' 'SF'\n",
      " 'DAL' 'NYG' 'NO' 'MIN' 'DEN' 'LAC' 'TB' 'MIA']\n",
      "Categories in 'OffenseFormation' variable: ['SHOTGUN' 'SINGLEBACK' 'JUMBO' 'PISTOL' 'I_FORM' 'ACE' 'WILDCAT' '0'\n",
      " 'EMPTY']\n",
      "Categories in 'PlayDirection' variable:      ['left' 'right']\n"
     ]
    }
   ],
   "source": [
    "print(\"Categories in 'Team' variable:     \",end=\" \" )\n",
    "print(df['Team'].unique())\n",
    "\n",
    "print(\"Categories in 'FieldPosition' variable:  \",end=\" \")\n",
    "print(df['FieldPosition'].unique())\n",
    "\n",
    "print(\"Categories in 'OffenseFormation' variable:\",end=\" \" )\n",
    "print(df['OffenseFormation'].unique())\n",
    "\n",
    "print(\"Categories in 'PlayDirection' variable:     \",end=\" \" )\n",
    "print(df['PlayDirection'].unique())\n"
   ]
  },
  {
   "cell_type": "code",
   "execution_count": 8,
   "metadata": {},
   "outputs": [],
   "source": [
    "y = df['Yards']"
   ]
  },
  {
   "cell_type": "code",
   "execution_count": 9,
   "metadata": {},
   "outputs": [
    {
     "data": {
      "text/plain": [
       "0         8\n",
       "1         8\n",
       "2         8\n",
       "3         8\n",
       "4         8\n",
       "         ..\n",
       "682149    4\n",
       "682150    4\n",
       "682151    4\n",
       "682152    4\n",
       "682153    4\n",
       "Name: Yards, Length: 682154, dtype: int64"
      ]
     },
     "execution_count": 9,
     "metadata": {},
     "output_type": "execute_result"
    }
   ],
   "source": [
    "y"
   ]
  },
  {
   "cell_type": "code",
   "execution_count": 10,
   "metadata": {},
   "outputs": [],
   "source": [
    "# Create Column Transformer with 3 types of transformers\n",
    "num_features = X.select_dtypes(exclude=\"object\").columns\n",
    "cat_features = X.select_dtypes(include=\"object\").columns\n",
    "\n",
    "from sklearn.preprocessing import OneHotEncoder, StandardScaler\n",
    "from sklearn.compose import ColumnTransformer\n",
    "\n",
    "numeric_transformer = StandardScaler()\n",
    "oh_transformer = OneHotEncoder()\n",
    "\n",
    "preprocessor = ColumnTransformer(\n",
    "    [\n",
    "        (\"OneHotEncoder\", oh_transformer, cat_features),\n",
    "         (\"StandardScaler\", numeric_transformer, num_features),        \n",
    "    ]\n",
    ")"
   ]
  },
  {
   "cell_type": "code",
   "execution_count": 11,
   "metadata": {},
   "outputs": [],
   "source": [
    "X = preprocessor.fit_transform(X)"
   ]
  },
  {
   "cell_type": "code",
   "execution_count": 12,
   "metadata": {},
   "outputs": [
    {
     "data": {
      "text/plain": [
       "(682154, 57)"
      ]
     },
     "execution_count": 12,
     "metadata": {},
     "output_type": "execute_result"
    }
   ],
   "source": [
    "X.shape"
   ]
  },
  {
   "cell_type": "code",
   "execution_count": 13,
   "metadata": {},
   "outputs": [
    {
     "data": {
      "text/plain": [
       "((545723, 57), (136431, 57))"
      ]
     },
     "execution_count": 13,
     "metadata": {},
     "output_type": "execute_result"
    }
   ],
   "source": [
    "# separate dataset into train and test\n",
    "from sklearn.model_selection import train_test_split\n",
    "X_train, X_test, y_train, y_test = train_test_split(X,y,test_size=0.2,random_state=42)\n",
    "X_train.shape, X_test.shape"
   ]
  },
  {
   "cell_type": "code",
   "execution_count": 14,
   "metadata": {},
   "outputs": [],
   "source": [
    "# creating an evaluation function to give all metrics after model training\n",
    "\n",
    "def evaluate_model(true, predicted):\n",
    "    mae = mean_absolute_error(true, predicted)\n",
    "    mse = mean_squared_error(true, predicted)\n",
    "    rmse = np.sqrt(mean_squared_error(true, predicted))\n",
    "    r2_square = r2_score(true, predicted)\n",
    "    return mae, rmse, r2_square"
   ]
  },
  {
   "cell_type": "code",
   "execution_count": 15,
   "metadata": {},
   "outputs": [
    {
     "name": "stdout",
     "output_type": "stream",
     "text": [
      "Linear Regression\n",
      "Model performance for Training set\n",
      "- Root Mean Squared Error: 6.3919\n",
      "- Mean Absolute Error: 3.7733\n",
      "- R2 Score: 0.0176\n",
      "----------------------------------\n",
      "Model performance for Test set\n",
      "- Root Mean Squared Error: 6.3957\n",
      "- Mean Absolute Error: 3.7669\n",
      "- R2 Score: 0.0180\n",
      "===================================\n",
      "\n",
      "\n",
      "Decision Tree\n",
      "Model performance for Training set\n",
      "- Root Mean Squared Error: 0.0000\n",
      "- Mean Absolute Error: 0.0000\n",
      "- R2 Score: 1.0000\n",
      "----------------------------------\n",
      "Model performance for Test set\n",
      "- Root Mean Squared Error: 0.9827\n",
      "- Mean Absolute Error: 0.0648\n",
      "- R2 Score: 0.9768\n",
      "===================================\n",
      "\n",
      "\n",
      "XGBRegressor\n",
      "Model performance for Training set\n",
      "- Root Mean Squared Error: 5.2351\n",
      "- Mean Absolute Error: 3.3225\n",
      "- R2 Score: 0.3410\n",
      "----------------------------------\n",
      "Model performance for Test set\n",
      "- Root Mean Squared Error: 5.3276\n",
      "- Mean Absolute Error: 3.3581\n",
      "- R2 Score: 0.3186\n",
      "===================================\n",
      "\n",
      "\n",
      "AdaBoost Regressor\n",
      "Model performance for Training set\n",
      "- Root Mean Squared Error: 6.7183\n",
      "- Mean Absolute Error: 4.6414\n",
      "- R2 Score: -0.0853\n",
      "----------------------------------\n",
      "Model performance for Test set\n",
      "- Root Mean Squared Error: 6.7275\n",
      "- Mean Absolute Error: 4.6374\n",
      "- R2 Score: -0.0865\n",
      "===================================\n",
      "\n",
      "\n"
     ]
    }
   ],
   "source": [
    "models = {\n",
    "    \"Linear Regression\": LinearRegression(),\n",
    "    \"Decision Tree\": DecisionTreeRegressor(),\n",
    "   # \"Random Forest Regressor\": RandomForestRegressor(),\n",
    "    \"XGBRegressor\": XGBRegressor(), \n",
    "    \"AdaBoost Regressor\": AdaBoostRegressor()\n",
    "}\n",
    "model_list = []\n",
    "r2_list =[]\n",
    "\n",
    "for i in range(len(list(models))):\n",
    "    model = list(models.values())[i]\n",
    "    model.fit(X_train, y_train) # Train model\n",
    "\n",
    "    # Make predictions\n",
    "    y_train_pred = model.predict(X_train)\n",
    "    y_test_pred = model.predict(X_test)\n",
    "    \n",
    "    # Evaluate Train and Test dataset\n",
    "    model_train_mae , model_train_rmse, model_train_r2 = evaluate_model(y_train, y_train_pred)\n",
    "\n",
    "    model_test_mae , model_test_rmse, model_test_r2 = evaluate_model(y_test, y_test_pred)\n",
    "\n",
    "    \n",
    "    print(list(models.keys())[i])\n",
    "    model_list.append(list(models.keys())[i])\n",
    "    \n",
    "    print('Model performance for Training set')\n",
    "    print(\"- Root Mean Squared Error: {:.4f}\".format(model_train_rmse))\n",
    "    print(\"- Mean Absolute Error: {:.4f}\".format(model_train_mae))\n",
    "    print(\"- R2 Score: {:.4f}\".format(model_train_r2))\n",
    "\n",
    "    print('----------------------------------')\n",
    "    \n",
    "    print('Model performance for Test set')\n",
    "    print(\"- Root Mean Squared Error: {:.4f}\".format(model_test_rmse))\n",
    "    print(\"- Mean Absolute Error: {:.4f}\".format(model_test_mae))\n",
    "    print(\"- R2 Score: {:.4f}\".format(model_test_r2))\n",
    "    r2_list.append(model_test_r2)\n",
    "    \n",
    "    print('='*35)\n",
    "    print('\\n')"
   ]
  },
  {
   "cell_type": "code",
   "execution_count": 16,
   "metadata": {},
   "outputs": [
    {
     "data": {
      "text/html": [
       "<div>\n",
       "<style scoped>\n",
       "    .dataframe tbody tr th:only-of-type {\n",
       "        vertical-align: middle;\n",
       "    }\n",
       "\n",
       "    .dataframe tbody tr th {\n",
       "        vertical-align: top;\n",
       "    }\n",
       "\n",
       "    .dataframe thead th {\n",
       "        text-align: right;\n",
       "    }\n",
       "</style>\n",
       "<table border=\"1\" class=\"dataframe\">\n",
       "  <thead>\n",
       "    <tr style=\"text-align: right;\">\n",
       "      <th></th>\n",
       "      <th>Model Name</th>\n",
       "      <th>R2_Score</th>\n",
       "    </tr>\n",
       "  </thead>\n",
       "  <tbody>\n",
       "    <tr>\n",
       "      <th>1</th>\n",
       "      <td>Decision Tree</td>\n",
       "      <td>0.976816</td>\n",
       "    </tr>\n",
       "    <tr>\n",
       "      <th>2</th>\n",
       "      <td>XGBRegressor</td>\n",
       "      <td>0.318581</td>\n",
       "    </tr>\n",
       "    <tr>\n",
       "      <th>0</th>\n",
       "      <td>Linear Regression</td>\n",
       "      <td>0.017990</td>\n",
       "    </tr>\n",
       "    <tr>\n",
       "      <th>3</th>\n",
       "      <td>AdaBoost Regressor</td>\n",
       "      <td>-0.086537</td>\n",
       "    </tr>\n",
       "  </tbody>\n",
       "</table>\n",
       "</div>"
      ],
      "text/plain": [
       "           Model Name  R2_Score\n",
       "1       Decision Tree  0.976816\n",
       "2        XGBRegressor  0.318581\n",
       "0   Linear Regression  0.017990\n",
       "3  AdaBoost Regressor -0.086537"
      ]
     },
     "execution_count": 16,
     "metadata": {},
     "output_type": "execute_result"
    }
   ],
   "source": [
    "pd.DataFrame(list(zip(model_list, r2_list)), columns=['Model Name', 'R2_Score']).sort_values(by=[\"R2_Score\"],ascending=False)"
   ]
  },
  {
   "cell_type": "code",
   "execution_count": 17,
   "metadata": {},
   "outputs": [
    {
     "name": "stdout",
     "output_type": "stream",
     "text": [
      " Accuracy of the model is 1.80\n"
     ]
    }
   ],
   "source": [
    "# Linear Regression\n",
    "lin_model = LinearRegression(fit_intercept=True)\n",
    "lin_model = lin_model.fit(X_train, y_train)\n",
    "y_pred = lin_model.predict(X_test)\n",
    "score = r2_score(y_test, y_pred)*100\n",
    "print(\" Accuracy of the model is %.2f\" %score)"
   ]
  },
  {
   "cell_type": "code",
   "execution_count": 18,
   "metadata": {},
   "outputs": [
    {
     "data": {
      "image/png": "[encoded data removed]",
      "text/plain": [
       "<Figure size 432x288 with 1 Axes>"
      ]
     },
     "metadata": {
      "needs_background": "light"
     },
     "output_type": "display_data"
    }
   ],
   "source": [
    "# Plot y_pred and y_test\n",
    "plt.scatter(y_test,y_pred);\n",
    "plt.xlabel('Actual');\n",
    "plt.ylabel('Predicted');"
   ]
  },
  {
   "cell_type": "code",
   "execution_count": 19,
   "metadata": {},
   "outputs": [
    {
     "data": {
      "image/png": "[encoded data removed]",
      "text/plain": [
       "<Figure size 432x288 with 1 Axes>"
      ]
     },
     "metadata": {
      "needs_background": "light"
     },
     "output_type": "display_data"
    }
   ],
   "source": [
    "sns.regplot(x=y_test,y=y_pred,ci=None,color ='red');"
   ]
  },
  {
   "cell_type": "code",
   "execution_count": 20,
   "metadata": {},
   "outputs": [
    {
     "data": {
      "text/html": [
       "<div>\n",
       "<style scoped>\n",
       "    .dataframe tbody tr th:only-of-type {\n",
       "        vertical-align: middle;\n",
       "    }\n",
       "\n",
       "    .dataframe tbody tr th {\n",
       "        vertical-align: top;\n",
       "    }\n",
       "\n",
       "    .dataframe thead th {\n",
       "        text-align: right;\n",
       "    }\n",
       "</style>\n",
       "<table border=\"1\" class=\"dataframe\">\n",
       "  <thead>\n",
       "    <tr style=\"text-align: right;\">\n",
       "      <th></th>\n",
       "      <th>Actual Value</th>\n",
       "      <th>Predicted Value</th>\n",
       "      <th>Difference</th>\n",
       "    </tr>\n",
       "  </thead>\n",
       "  <tbody>\n",
       "    <tr>\n",
       "      <th>429781</th>\n",
       "      <td>5</td>\n",
       "      <td>4.762139</td>\n",
       "      <td>0.237861</td>\n",
       "    </tr>\n",
       "    <tr>\n",
       "      <th>635616</th>\n",
       "      <td>0</td>\n",
       "      <td>5.772639</td>\n",
       "      <td>-5.772639</td>\n",
       "    </tr>\n",
       "    <tr>\n",
       "      <th>646809</th>\n",
       "      <td>3</td>\n",
       "      <td>4.522516</td>\n",
       "      <td>-1.522516</td>\n",
       "    </tr>\n",
       "    <tr>\n",
       "      <th>664851</th>\n",
       "      <td>-2</td>\n",
       "      <td>5.124310</td>\n",
       "      <td>-7.124310</td>\n",
       "    </tr>\n",
       "    <tr>\n",
       "      <th>654667</th>\n",
       "      <td>3</td>\n",
       "      <td>4.486693</td>\n",
       "      <td>-1.486693</td>\n",
       "    </tr>\n",
       "    <tr>\n",
       "      <th>...</th>\n",
       "      <td>...</td>\n",
       "      <td>...</td>\n",
       "      <td>...</td>\n",
       "    </tr>\n",
       "    <tr>\n",
       "      <th>589470</th>\n",
       "      <td>3</td>\n",
       "      <td>3.796803</td>\n",
       "      <td>-0.796803</td>\n",
       "    </tr>\n",
       "    <tr>\n",
       "      <th>502920</th>\n",
       "      <td>4</td>\n",
       "      <td>4.818319</td>\n",
       "      <td>-0.818319</td>\n",
       "    </tr>\n",
       "    <tr>\n",
       "      <th>117042</th>\n",
       "      <td>1</td>\n",
       "      <td>3.995918</td>\n",
       "      <td>-2.995918</td>\n",
       "    </tr>\n",
       "    <tr>\n",
       "      <th>502187</th>\n",
       "      <td>1</td>\n",
       "      <td>4.554035</td>\n",
       "      <td>-3.554035</td>\n",
       "    </tr>\n",
       "    <tr>\n",
       "      <th>271110</th>\n",
       "      <td>7</td>\n",
       "      <td>4.214377</td>\n",
       "      <td>2.785623</td>\n",
       "    </tr>\n",
       "  </tbody>\n",
       "</table>\n",
       "<p>136431 rows × 3 columns</p>\n",
       "</div>"
      ],
      "text/plain": [
       "        Actual Value  Predicted Value  Difference\n",
       "429781             5         4.762139    0.237861\n",
       "635616             0         5.772639   -5.772639\n",
       "646809             3         4.522516   -1.522516\n",
       "664851            -2         5.124310   -7.124310\n",
       "654667             3         4.486693   -1.486693\n",
       "...              ...              ...         ...\n",
       "589470             3         3.796803   -0.796803\n",
       "502920             4         4.818319   -0.818319\n",
       "117042             1         3.995918   -2.995918\n",
       "502187             1         4.554035   -3.554035\n",
       "271110             7         4.214377    2.785623\n",
       "\n",
       "[136431 rows x 3 columns]"
      ]
     },
     "execution_count": 20,
     "metadata": {},
     "output_type": "execute_result"
    }
   ],
   "source": [
    "# Difference between actual and predicted values\n",
    "pred_df=pd.DataFrame({'Actual Value':y_test,'Predicted Value':y_pred,'Difference':y_test-y_pred})\n",
    "pred_df"
   ]
  },
  {
   "cell_type": "code",
   "execution_count": 22,
   "metadata": {},
   "outputs": [
    {
     "data": {
      "text/plain": [
       "-0.01437260839613278"
      ]
     },
     "execution_count": 22,
     "metadata": {},
     "output_type": "execute_result"
    }
   ],
   "source": [
    "pred_df['Difference'].mean()"
   ]
  },
  {
   "cell_type": "code",
   "execution_count": null,
   "metadata": {},
   "outputs": [],
   "source": []
  }
 ],
 "metadata": {
  "kernelspec": {
   "display_name": "Python 3.7.13 ('dev')",
   "language": "python",
   "name": "python3"
  },
  "language_info": {
   "codemirror_mode": {
    "name": "ipython",
    "version": 3
   },
   "file_extension": ".py",
   "mimetype": "text/x-python",
   "name": "python",
   "nbconvert_exporter": "python",
   "pygments_lexer": "ipython3",
   "version": "3.7.13"
  },
  "orig_nbformat": 4,
  "vscode": {
   "interpreter": {
    "hash": "88d2cc99d3148357da7bb5c37541a5fbe81c562aacae19a43380007335f9b7a5"
   }
  }
 },
 "nbformat": 4,
 "nbformat_minor": 2
}
